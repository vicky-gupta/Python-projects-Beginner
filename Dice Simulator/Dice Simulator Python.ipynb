{
 "cells": [
  {
   "cell_type": "code",
   "execution_count": null,
   "metadata": {},
   "outputs": [
    {
     "name": "stdout",
     "output_type": "stream",
     "text": [
      "rolling again...\n",
      "the number are...\n",
      "6\n",
      "6\n",
      "Roll again?  y\n",
      "rolling again...\n",
      "the number are...\n",
      "2\n",
      "3\n",
      "Roll again?  yes\n",
      "rolling again...\n",
      "the number are...\n",
      "1\n",
      "4\n",
      "Roll again?  yo\n",
      "rolling again...\n",
      "the number are...\n",
      "1\n",
      "4\n"
     ]
    }
   ],
   "source": [
    "#The random module is another library of functions that can extend the basic features of python.\n",
    "#Other modules we have seen so far are string, math, time and graphics.\n",
    "import random\n",
    "\n",
    "#Dice simulator implementation in python\n",
    "\n",
    "#Minimum number for Dice\n",
    "min_num = 1\n",
    "\n",
    "#Maximum Number for Dice\n",
    "max_num = 6\n",
    "\n",
    "#initializing a variable with default value \"yes\"\n",
    "roll_repeat = \"yes\"\n",
    "\n",
    "#While loop to repeat the rolling dice process\n",
    "while roll_repeat == \"yes\" or roll_repeat == \"y\" or roll_repeat == \"yo\":\n",
    "\n",
    "    print(\"rolling again...\")\n",
    "    print(\"the number are...\")\n",
    "    \n",
    "    #Random number generation for 1st Dice...\n",
    "    print(random.randint(min_num,max_num))\n",
    "    \n",
    "    #Random number generation for 1st Dice...\n",
    "    print(random.randint(min_num,max_num))\n",
    "    \n",
    "    #Repeatation of rolling dice...\n",
    "    roll_repeat = input(\"Roll again?  \")"
   ]
  },
  {
   "cell_type": "code",
   "execution_count": null,
   "metadata": {},
   "outputs": [],
   "source": []
  },
  {
   "cell_type": "code",
   "execution_count": null,
   "metadata": {},
   "outputs": [],
   "source": []
  }
 ],
 "metadata": {
  "kernelspec": {
   "display_name": "Python 3",
   "language": "python",
   "name": "python3"
  },
  "language_info": {
   "codemirror_mode": {
    "name": "ipython",
    "version": 3
   },
   "file_extension": ".py",
   "mimetype": "text/x-python",
   "name": "python",
   "nbconvert_exporter": "python",
   "pygments_lexer": "ipython3",
   "version": "3.7.6"
  }
 },
 "nbformat": 4,
 "nbformat_minor": 4
}
