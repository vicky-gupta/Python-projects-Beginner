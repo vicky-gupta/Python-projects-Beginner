{
 "cells": [
  {
   "cell_type": "code",
   "execution_count": null,
   "metadata": {},
   "outputs": [
    {
     "name": "stdout",
     "output_type": "stream",
     "text": [
      "Your Entry: Rock\n",
      "Match Draw!!!\n",
      "Your Entry: Rock\n",
      "Looser!!!\n",
      "Your Entry: Paper\n",
      "Looser!!!\n",
      "Your Entry: Scissor\n",
      "You Win!!!\n",
      "Your Entry: paper\n",
      "You Win!!!\n",
      "Your Entry: tuy\n",
      "Your Entry: rock\n",
      "You Win!!!\n",
      "Your Entry: rock\n",
      "Looser!!!\n",
      "Your Entry: rock\n",
      "Match Draw!!!\n",
      "Your Entry: rock\n",
      "Match Draw!!!\n",
      "Your Entry: Paper\n",
      "Match Draw!!!\n",
      "Your Entry: Scissor\n",
      "Match Draw!!!\n"
     ]
    }
   ],
   "source": [
    "import random\n",
    "options = [\"Rock\",\"Paper\",\"Scissor\"]\n",
    "\n",
    "human = False\n",
    "\n",
    "while True:\n",
    "    cpu = random.choice(options)\n",
    "    human = input(\"Your Entry: \").capitalize()\n",
    "    if human == cpu:\n",
    "        print(\"Match Draw!!!\")\n",
    "        \n",
    "    elif human == \"Rock\":\n",
    "        if cpu == \"Paper\":\n",
    "            print(\"Looser!!!\")\n",
    "        else:\n",
    "            print(\"You Win!!!\")\n",
    "            \n",
    "    elif human == \"Paper\":\n",
    "        if cpu == \"Scissor\":\n",
    "            print(\"Looser!!!\")\n",
    "        else:\n",
    "            print(\"You Win!!!\")\n",
    "            \n",
    "    elif human == \"Scissor\":\n",
    "        if cpu == \"Rock\":\n",
    "            print(\"Looser!!!\")\n",
    "        else:\n",
    "            print(\"You Win!!!\")\n",
    "    elif human == \"Quit\":\n",
    "        print(\"Game Over!!!\")\n",
    "        break"
   ]
  },
  {
   "cell_type": "code",
   "execution_count": 2,
   "metadata": {},
   "outputs": [
    {
     "name": "stdout",
     "output_type": "stream",
     "text": [
      "Your Entry: HUMNA\n",
      "Humna\n"
     ]
    }
   ],
   "source": [
    "human = input(\"Your Entry: \").capitalize()\n",
    "print(human)"
   ]
  },
  {
   "cell_type": "code",
   "execution_count": null,
   "metadata": {},
   "outputs": [],
   "source": []
  }
 ],
 "metadata": {
  "kernelspec": {
   "display_name": "Python 3",
   "language": "python",
   "name": "python3"
  },
  "language_info": {
   "codemirror_mode": {
    "name": "ipython",
    "version": 3
   },
   "file_extension": ".py",
   "mimetype": "text/x-python",
   "name": "python",
   "nbconvert_exporter": "python",
   "pygments_lexer": "ipython3",
   "version": "3.7.6"
  }
 },
 "nbformat": 4,
 "nbformat_minor": 4
}
