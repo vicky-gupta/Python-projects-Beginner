{
 "cells": [
  {
   "cell_type": "code",
   "execution_count": 7,
   "metadata": {
    "scrolled": true
   },
   "outputs": [],
   "source": [
    "#importing all necessary libraries...\n",
    "import tkinter\n",
    "from tkinter import Label, Tk \n",
    "import datetime\n",
    "\n",
    "#Defin our Window\n",
    "window = tkinter.Tk()\n",
    "#window title\n",
    "window.title(\"GUI\")\n",
    "#window size in pixel\n",
    "window.geometry('580x330')\n",
    "#resizing window accroding to the user\n",
    "window.resizable(1,1)\n",
    "#configuring window\n",
    "window.configure(bg=\"#FFC86E\")\n",
    "#window transparency\n",
    "window.attributes('-alpha',0.95)\n",
    "\n",
    "#GUI Variable\n",
    "clk_font = (\"Unispace\",68)\n",
    "txt_font = (\"Unispace\",50, 'bold')\n",
    "bdr_wdth = 5\n",
    "b_g = \"#FFC86E\"\n",
    "f_g = \"#EC8C2D\"\n",
    "\n",
    "#label for clock\n",
    "lable = tkinter.Label(window, bg = b_g, fg = f_g, font = clk_font, bd=bdr_wdth, )\n",
    "#clock label position\n",
    "lable.grid(row = 2, column=1)\n",
    "#label for calender\n",
    "lable2 = tkinter.Label(window, bg = b_g, fg = f_g, font = clk_font, bd=bdr_wdth)\n",
    "#calender label position\n",
    "lable2.grid(row = 1, column=1)\n",
    "#label for text\n",
    "lable3 = tkinter.Label(window,text = \"DIGITAL CLOCK\", bg = b_g, fg = f_g, font = txt_font, bd=bdr_wdth)\n",
    "#text label position\n",
    "lable3.grid(row = 0, column=1)\n",
    "\n",
    "#Main Clock Function\n",
    "def main_clock():\n",
    "    now = datetime.datetime.now()\n",
    "    clk_time = now.strftime(\"%H:%M:%S\")\n",
    "    lable.config(text = clk_time)\n",
    "    lable.after(200,main_clock)\n",
    "\n",
    "#Main date function\n",
    "def main_date():\n",
    "    cal_date = datetime.date.today()\n",
    "    lable2.config(text = cal_date)\n",
    "    lable2.after(200,main_date)\n",
    "\n",
    "main_date()\n",
    "main_clock()\n",
    "\n",
    "window.mainloop()"
   ]
  },
  {
   "cell_type": "code",
   "execution_count": null,
   "metadata": {},
   "outputs": [],
   "source": []
  }
 ],
 "metadata": {
  "kernelspec": {
   "display_name": "Python 3",
   "language": "python",
   "name": "python3"
  },
  "language_info": {
   "codemirror_mode": {
    "name": "ipython",
    "version": 3
   },
   "file_extension": ".py",
   "mimetype": "text/x-python",
   "name": "python",
   "nbconvert_exporter": "python",
   "pygments_lexer": "ipython3",
   "version": "3.7.6"
  }
 },
 "nbformat": 4,
 "nbformat_minor": 4
}
